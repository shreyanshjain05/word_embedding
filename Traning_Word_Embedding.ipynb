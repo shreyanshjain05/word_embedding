{
  "nbformat": 4,
  "nbformat_minor": 0,
  "metadata": {
    "colab": {
      "provenance": []
    },
    "kernelspec": {
      "name": "python3",
      "display_name": "Python 3"
    },
    "language_info": {
      "name": "python"
    }
  },
  "cells": [
    {
      "cell_type": "markdown",
      "source": [
        "**Steps of implementation**\n",
        "\n",
        "Step 1: Load data\n",
        "\n",
        "Step 2: Create Bigrams\n",
        "\n",
        "Step 3: Perform One-hot encoding\n",
        "\n",
        "Step 4: Create a model and train\n",
        "\n",
        "Step 5: Visualize results"
      ],
      "metadata": {
        "id": "LMZnwuPw9S4T"
      }
    },
    {
      "cell_type": "markdown",
      "source": [
        "#LOAD DATA"
      ],
      "metadata": {
        "id": "__vRSf5f-cOJ"
      }
    },
    {
      "cell_type": "code",
      "execution_count": 1,
      "metadata": {
        "colab": {
          "base_uri": "https://localhost:8080/"
        },
        "id": "09hkZx4810UE",
        "outputId": "583ed679-c2ee-407c-dd6d-2789e8d43908"
      },
      "outputs": [
        {
          "output_type": "stream",
          "name": "stdout",
          "text": [
            "['The future king is the prince\\n', 'Daughter is the princess\\n', 'Son is the prince\\n', 'Only a man can be a king\\n', 'Only a woman can be a queen\\n', 'The princess will be a queen\\n', 'The prince is a strong man\\n', 'The princess is a beautiful woman\\n', 'Prince is only a boy now\\n', 'Prince will be king\\n', 'A boy will be a man']\n"
          ]
        }
      ],
      "source": [
        "file = open('/content/word_embedding.txt' ,'r')\n",
        "data = file.readlines()\n",
        "file.close()\n",
        "print(data)"
      ]
    },
    {
      "cell_type": "markdown",
      "source": [
        "convert into lowercase and tokenise"
      ],
      "metadata": {
        "id": "9b_21fym_DeT"
      }
    },
    {
      "cell_type": "code",
      "source": [
        "for i in range(len(data)):\n",
        "    data[i] = data[i].lower().replace('\\n' , '')\n",
        "print(data)"
      ],
      "metadata": {
        "colab": {
          "base_uri": "https://localhost:8080/"
        },
        "id": "nsFD3llC9Cmx",
        "outputId": "c35396c9-94aa-4cf1-919e-e9fc80668303"
      },
      "execution_count": 2,
      "outputs": [
        {
          "output_type": "stream",
          "name": "stdout",
          "text": [
            "['the future king is the prince', 'daughter is the princess', 'son is the prince', 'only a man can be a king', 'only a woman can be a queen', 'the princess will be a queen', 'the prince is a strong man', 'the princess is a beautiful woman', 'prince is only a boy now', 'prince will be king', 'a boy will be a man']\n"
          ]
        }
      ]
    },
    {
      "cell_type": "markdown",
      "source": [
        "#REMOVE STOP WORDS AND TOKENISE"
      ],
      "metadata": {
        "id": "LkuBEZwY_0Fg"
      }
    },
    {
      "cell_type": "code",
      "source": [
        "stopwords = ['the', 'is', 'will', 'be', 'a', 'only', 'can', 'their', 'now', 'and', 'at', 'it']\n",
        "\n",
        "filter_data = []\n",
        "for sent in data:\n",
        "    temp = []\n",
        "    for word in sent.split():\n",
        "        if word not in stopwords:\n",
        "            temp.append(word)\n",
        "    filter_data.append(temp)\n",
        "print(filter_data)"
      ],
      "metadata": {
        "colab": {
          "base_uri": "https://localhost:8080/"
        },
        "id": "wYWma9-k_bpu",
        "outputId": "8661ac6e-18a6-456c-a4e6-76ed70f693b2"
      },
      "execution_count": 3,
      "outputs": [
        {
          "output_type": "stream",
          "name": "stdout",
          "text": [
            "[['future', 'king', 'prince'], ['daughter', 'princess'], ['son', 'prince'], ['man', 'king'], ['woman', 'queen'], ['princess', 'queen'], ['prince', 'strong', 'man'], ['princess', 'beautiful', 'woman'], ['prince', 'boy'], ['prince', 'king'], ['boy', 'man']]\n"
          ]
        }
      ]
    },
    {
      "cell_type": "markdown",
      "source": [
        "#CREATING BIGRAMS\n",
        "\n",
        "we'll take all the combination possible from each sentence to maximise bigrams"
      ],
      "metadata": {
        "id": "I2JVmJIlBuP_"
      }
    },
    {
      "cell_type": "code",
      "source": [
        "bigrams = []\n",
        "\n",
        "for word_list in filter_data:\n",
        "    for i in range(len(word_list)-1):\n",
        "        for j in range(i+1 , len(word_list)): #code to get permutation\n",
        "            bigrams.append([word_list[i] , word_list[j]])\n",
        "            bigrams.append([word_list[j] , word_list[i]])\n",
        "print(bigrams)\n"
      ],
      "metadata": {
        "colab": {
          "base_uri": "https://localhost:8080/"
        },
        "id": "PRJwu93TBOl9",
        "outputId": "e652a1ea-7f15-45db-e184-357dc37d6ec8"
      },
      "execution_count": 4,
      "outputs": [
        {
          "output_type": "stream",
          "name": "stdout",
          "text": [
            "[['future', 'king'], ['king', 'future'], ['future', 'prince'], ['prince', 'future'], ['king', 'prince'], ['prince', 'king'], ['daughter', 'princess'], ['princess', 'daughter'], ['son', 'prince'], ['prince', 'son'], ['man', 'king'], ['king', 'man'], ['woman', 'queen'], ['queen', 'woman'], ['princess', 'queen'], ['queen', 'princess'], ['prince', 'strong'], ['strong', 'prince'], ['prince', 'man'], ['man', 'prince'], ['strong', 'man'], ['man', 'strong'], ['princess', 'beautiful'], ['beautiful', 'princess'], ['princess', 'woman'], ['woman', 'princess'], ['beautiful', 'woman'], ['woman', 'beautiful'], ['prince', 'boy'], ['boy', 'prince'], ['prince', 'king'], ['king', 'prince'], ['boy', 'man'], ['man', 'boy']]\n"
          ]
        }
      ]
    },
    {
      "cell_type": "markdown",
      "source": [
        "#CREATE VOCABULARY"
      ],
      "metadata": {
        "id": "s4SxhX7pDqcg"
      }
    },
    {
      "cell_type": "code",
      "source": [
        "all_words = []\n",
        "for sent in filter_data:\n",
        "    all_words.extend(sent)\n",
        "# to remove duplicate words use set()\n",
        "all_words = list(set(all_words))\n",
        "all_words.sort()\n",
        "print(all_words)\n",
        "print(len(all_words))"
      ],
      "metadata": {
        "colab": {
          "base_uri": "https://localhost:8080/"
        },
        "id": "MIzsX4GADUCM",
        "outputId": "66394635-95b6-4e63-9e94-c3999260fee1"
      },
      "execution_count": 5,
      "outputs": [
        {
          "output_type": "stream",
          "name": "stdout",
          "text": [
            "['beautiful', 'boy', 'daughter', 'future', 'king', 'man', 'prince', 'princess', 'queen', 'son', 'strong', 'woman']\n",
            "12\n"
          ]
        }
      ]
    },
    {
      "cell_type": "markdown",
      "source": [
        "#ONE HOT ENCODING"
      ],
      "metadata": {
        "id": "_0pl5_sLEo9y"
      }
    },
    {
      "cell_type": "code",
      "source": [
        "# assign every word a token\n",
        "word_dict = {}\n",
        "counter = 0\n",
        "for word in all_words:\n",
        "    word_dict[word] = counter\n",
        "    counter+=1\n",
        "print(word_dict)"
      ],
      "metadata": {
        "colab": {
          "base_uri": "https://localhost:8080/"
        },
        "id": "1YYyOxTKEoq4",
        "outputId": "2783d387-c7c3-4c0b-d840-d3c4a8ef5ad9"
      },
      "execution_count": 6,
      "outputs": [
        {
          "output_type": "stream",
          "name": "stdout",
          "text": [
            "{'beautiful': 0, 'boy': 1, 'daughter': 2, 'future': 3, 'king': 4, 'man': 5, 'prince': 6, 'princess': 7, 'queen': 8, 'son': 9, 'strong': 10, 'woman': 11}\n"
          ]
        }
      ]
    },
    {
      "cell_type": "code",
      "source": [
        "import numpy as np\n",
        "one_hot_data = np.zeros((len(all_words) , len(all_words)))\n",
        "for i in range(len(all_words)):\n",
        "    one_hot_data[i][i] = 1\n",
        "print(one_hot_data)\n",
        "print('\\n')\n",
        "one_hot_dict = {}\n",
        "for i in range(len(all_words)):\n",
        "    one_hot_dict[all_words[i]] = one_hot_data[i]\n",
        "for word in one_hot_dict:\n",
        "    print(word , ':', one_hot_dict[word])\n",
        "\n"
      ],
      "metadata": {
        "colab": {
          "base_uri": "https://localhost:8080/"
        },
        "id": "6aXpm5Q0EDh5",
        "outputId": "2c963476-58f3-4bfd-f2f9-3bb09a4e4601"
      },
      "execution_count": 7,
      "outputs": [
        {
          "output_type": "stream",
          "name": "stdout",
          "text": [
            "[[1. 0. 0. 0. 0. 0. 0. 0. 0. 0. 0. 0.]\n",
            " [0. 1. 0. 0. 0. 0. 0. 0. 0. 0. 0. 0.]\n",
            " [0. 0. 1. 0. 0. 0. 0. 0. 0. 0. 0. 0.]\n",
            " [0. 0. 0. 1. 0. 0. 0. 0. 0. 0. 0. 0.]\n",
            " [0. 0. 0. 0. 1. 0. 0. 0. 0. 0. 0. 0.]\n",
            " [0. 0. 0. 0. 0. 1. 0. 0. 0. 0. 0. 0.]\n",
            " [0. 0. 0. 0. 0. 0. 1. 0. 0. 0. 0. 0.]\n",
            " [0. 0. 0. 0. 0. 0. 0. 1. 0. 0. 0. 0.]\n",
            " [0. 0. 0. 0. 0. 0. 0. 0. 1. 0. 0. 0.]\n",
            " [0. 0. 0. 0. 0. 0. 0. 0. 0. 1. 0. 0.]\n",
            " [0. 0. 0. 0. 0. 0. 0. 0. 0. 0. 1. 0.]\n",
            " [0. 0. 0. 0. 0. 0. 0. 0. 0. 0. 0. 1.]]\n",
            "\n",
            "\n",
            "beautiful : [1. 0. 0. 0. 0. 0. 0. 0. 0. 0. 0. 0.]\n",
            "boy : [0. 1. 0. 0. 0. 0. 0. 0. 0. 0. 0. 0.]\n",
            "daughter : [0. 0. 1. 0. 0. 0. 0. 0. 0. 0. 0. 0.]\n",
            "future : [0. 0. 0. 1. 0. 0. 0. 0. 0. 0. 0. 0.]\n",
            "king : [0. 0. 0. 0. 1. 0. 0. 0. 0. 0. 0. 0.]\n",
            "man : [0. 0. 0. 0. 0. 1. 0. 0. 0. 0. 0. 0.]\n",
            "prince : [0. 0. 0. 0. 0. 0. 1. 0. 0. 0. 0. 0.]\n",
            "princess : [0. 0. 0. 0. 0. 0. 0. 1. 0. 0. 0. 0.]\n",
            "queen : [0. 0. 0. 0. 0. 0. 0. 0. 1. 0. 0. 0.]\n",
            "son : [0. 0. 0. 0. 0. 0. 0. 0. 0. 1. 0. 0.]\n",
            "strong : [0. 0. 0. 0. 0. 0. 0. 0. 0. 0. 1. 0.]\n",
            "woman : [0. 0. 0. 0. 0. 0. 0. 0. 0. 0. 0. 1.]\n"
          ]
        }
      ]
    },
    {
      "cell_type": "code",
      "source": [
        "X = []\n",
        "Y = []\n",
        "for bi in bigrams:\n",
        "    X.append(one_hot_dict[bi[0]])\n",
        "    Y.append(one_hot_dict[bi[1]])\n",
        "\n",
        "X = np.array(X)\n",
        "Y = np.array(Y)\n"
      ],
      "metadata": {
        "id": "3bDrcnxLF2D8"
      },
      "execution_count": 8,
      "outputs": []
    },
    {
      "cell_type": "markdown",
      "source": [
        "#MODEL\n",
        "![image.png](data:image/png;base64,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)"
      ],
      "metadata": {
        "id": "r01jlcNJH-pF"
      }
    },
    {
      "cell_type": "markdown",
      "source": [
        "input layer == output layer"
      ],
      "metadata": {
        "id": "7cm4qnkEILYk"
      }
    },
    {
      "cell_type": "code",
      "source": [
        "from keras.models import Sequential\n",
        "from keras.layers import Dense\n",
        "\n",
        "embed_size = 2 #coz we need weight of 2 words only\n",
        "\n",
        "model = Sequential()\n",
        "model.add(Dense(embed_size, activation='linear'))\n",
        "model.add(Dense(Y.shape[1], activation = 'softmax'))\n",
        "\n",
        "model.compile(loss = 'categorical_crossentropy', optimizer = 'adam')"
      ],
      "metadata": {
        "id": "YmWfwVQ_HocO"
      },
      "execution_count": 9,
      "outputs": []
    },
    {
      "cell_type": "code",
      "source": [
        "model.fit(X, Y, epochs = 1000, batch_size = 256, verbose = False)\n"
      ],
      "metadata": {
        "colab": {
          "base_uri": "https://localhost:8080/"
        },
        "id": "CUee_NcVJyQq",
        "outputId": "795ae2d3-6136-44d2-ffba-0685d554fa1e"
      },
      "execution_count": 10,
      "outputs": [
        {
          "output_type": "execute_result",
          "data": {
            "text/plain": [
              "<keras.src.callbacks.history.History at 0x7fef53cf4940>"
            ]
          },
          "metadata": {},
          "execution_count": 10
        }
      ]
    },
    {
      "cell_type": "code",
      "source": [
        "weights = model.get_weights()[0] #to get weight between output and hiddne layer\n",
        "\n",
        "word_embedding = {}\n",
        "for word in all_words:\n",
        "    word_embedding[word] = weights[word_dict[word]]\n",
        "\n",
        "print(word_embedding)"
      ],
      "metadata": {
        "colab": {
          "base_uri": "https://localhost:8080/"
        },
        "id": "xMP9kDHtJs94",
        "outputId": "9e7c97d6-6daf-4eeb-c1a3-271cf4d5befe"
      },
      "execution_count": 12,
      "outputs": [
        {
          "output_type": "stream",
          "name": "stdout",
          "text": [
            "{'beautiful': array([-0.62000227, -0.6466193 ], dtype=float32), 'boy': array([1.0338781, 1.0365535], dtype=float32), 'daughter': array([ 0.8978836, -1.5325079], dtype=float32), 'future': array([ 1.3797158 , -0.01881299], dtype=float32), 'king': array([0.939301 , 1.5685927], dtype=float32), 'man': array([0.3253093 , 0.30307505], dtype=float32), 'prince': array([-0.47857454,  0.8839597 ], dtype=float32), 'princess': array([-1.5996612 , -0.75348705], dtype=float32), 'queen': array([-0.7426366, -1.5798181], dtype=float32), 'son': array([1.135034 , 0.7710205], dtype=float32), 'strong': array([1.1496443, 1.1141628], dtype=float32), 'woman': array([-0.24347688, -1.5052496 ], dtype=float32)}\n"
          ]
        }
      ]
    },
    {
      "cell_type": "code",
      "source": [
        "import matplotlib.pyplot as plt\n",
        "\n",
        "for word in list(word_dict.keys()):\n",
        "    coord = word_embedding.get(word)\n",
        "    plt.scatter(coord[0], coord[1])\n",
        "    plt.annotate(word, (coord[0], coord[1]))\n",
        "\n"
      ],
      "metadata": {
        "colab": {
          "base_uri": "https://localhost:8080/",
          "height": 430
        },
        "id": "mqVYJsClKMaG",
        "outputId": "efaa9910-0a99-4a46-b475-7d8d5bec36ae"
      },
      "execution_count": 21,
      "outputs": [
        {
          "output_type": "display_data",
          "data": {
            "text/plain": [
              "<Figure size 640x480 with 1 Axes>"
            ],
            "image/png": "[encoded data removed]"
          },
          "metadata": {}
        }
      ]
    },
    {
      "cell_type": "code",
      "source": [
        ""
      ],
      "metadata": {
        "id": "SY1Xu9t0Lne8"
      },
      "execution_count": null,
      "outputs": []
    }
  ]
}